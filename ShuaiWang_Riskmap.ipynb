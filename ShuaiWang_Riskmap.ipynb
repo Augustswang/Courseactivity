{
  "nbformat": 4,
  "nbformat_minor": 0,
  "metadata": {
    "colab": {
      "name": "ShuaiWang-Riskmap.ipynb",
      "provenance": [],
      "authorship_tag": "ABX9TyM3AMDwRoVdAIqi8X0Y6ZOS",
      "include_colab_link": true
    },
    "kernelspec": {
      "name": "python3",
      "display_name": "Python 3"
    },
    "language_info": {
      "name": "python"
    }
  },
  "cells": [
    {
      "cell_type": "markdown",
      "metadata": {
        "id": "view-in-github",
        "colab_type": "text"
      },
      "source": [
        "<a href=\"https://colab.research.google.com/github/Augustswang/Courseactivity/blob/main/ShuaiWang_Riskmap.ipynb\" target=\"_parent\"><img src=\"https://colab.research.google.com/assets/colab-badge.svg\" alt=\"Open In Colab\"/></a>"
      ]
    },
    {
      "cell_type": "code",
      "execution_count": 4,
      "metadata": {
        "colab": {
          "base_uri": "https://localhost:8080/",
          "height": 609
        },
        "id": "76OGpGNMixQ6",
        "outputId": "4502668c-3b27-45d9-be1a-c964edd2519c"
      },
      "outputs": [
        {
          "output_type": "stream",
          "name": "stdout",
          "text": [
            "likelihood  0.3  0.4  0.5  0.6  0.8\n",
            "impact                             \n",
            "3           NaN  1.2  NaN  NaN  NaN\n",
            "8           NaN  NaN  NaN  NaN  6.4\n",
            "9           NaN  NaN  4.5  5.4  NaN\n",
            "10          3.0  NaN  NaN  NaN  NaN\n",
            "likelihood              0.3                 0.4                0.5  \\\n",
            "impact                                                               \n",
            "3                       NaN  RansomwareIncident                NaN   \n",
            "8                       NaN                 NaN                NaN   \n",
            "9                       NaN                 NaN  DamageInformation   \n",
            "10          DamagedSoftware                 NaN                NaN   \n",
            "\n",
            "likelihood                 0.6                0.8  \n",
            "impact                                             \n",
            "3                          NaN                NaN  \n",
            "8                          NaN  InformationStolen  \n",
            "9           CrisisOfConfidence                NaN  \n",
            "10                         NaN                NaN  \n"
          ]
        },
        {
          "output_type": "display_data",
          "data": {
            "text/plain": [
              "<Figure size 432x288 with 2 Axes>"
            ],
            "image/png": "[encoded data removed]"
          },
          "metadata": {
            "needs_background": "light"
          }
        }
      ],
      "source": [
        "import seaborn as sns\n",
        "import pandas as pd\n",
        "import numpy as np\n",
        "\n",
        "df = pd.DataFrame(columns=['risk', 'likelihood', 'impact', 'score'])\n",
        "df['risk'] = ['InformationStolen', 'CrisisOfConfidence', 'RansomwareIncident', 'DamageInformation', 'DamagedSoftware']\n",
        "df['likelihood']=[0.8, 0.6, 0.4, 0.5, 0.3]\n",
        "df['impact']=[8,9,3,9,10]\n",
        "df['score']=df['impact']*df['likelihood']\n",
        "df['score']=df['impact']*df['likelihood']\n",
        "scoresPivot=df.pivot('impact','likelihood','score')\n",
        "print(scoresPivot)\n",
        "labelsPivot=df.pivot('impact', 'likelihood','risk')\n",
        "print(labelsPivot)\n",
        "p1=sns.heatmap(scoresPivot, cmap=\"gist_rainbow_r\", annot=labelsPivot, fmt='')"
      ]
    }
  ]
}